{
  "metadata": {
    "kernelspec": {
      "language": "python",
      "display_name": "Python 3",
      "name": "python3"
    },
    "language_info": {
      "name": "python",
      "version": "3.7.6",
      "mimetype": "text/x-python",
      "codemirror_mode": {
        "name": "ipython",
        "version": 3
      },
      "pygments_lexer": "ipython3",
      "nbconvert_exporter": "python",
      "file_extension": ".py"
    },
    "kaggle": {
      "accelerator": "nvidiaTeslaT4",
      "dataSources": [
        {
          "sourceId": 1479286,
          "sourceType": "datasetVersion",
          "datasetId": 865179
        }
      ],
      "dockerImageVersionId": 30005,
      "isInternetEnabled": true,
      "language": "python",
      "sourceType": "notebook",
      "isGpuEnabled": true
    },
    "colab": {
      "name": "Star Galaxy MobileV2Net",
      "provenance": [],
      "include_colab_link": true
    }
  },
  "nbformat_minor": 0,
  "nbformat": 4,
  "cells": [
    {
      "cell_type": "markdown",
      "metadata": {
        "id": "view-in-github",
        "colab_type": "text"
      },
      "source": [
        "<a href=\"https://colab.research.google.com/github/marioapn3/classification_star_galaxy_mobilenetv2/blob/main/Star_Galaxy_MobileV2Net.ipynb\" target=\"_parent\"><img src=\"https://colab.research.google.com/assets/colab-badge.svg\" alt=\"Open In Colab\"/></a>"
      ]
    },
    {
      "source": [
        "\n",
        "# IMPORTANT: RUN THIS CELL IN ORDER TO IMPORT YOUR KAGGLE DATA SOURCES\n",
        "# TO THE CORRECT LOCATION (/kaggle/input) IN YOUR NOTEBOOK,\n",
        "# THEN FEEL FREE TO DELETE THIS CELL.\n",
        "# NOTE: THIS NOTEBOOK ENVIRONMENT DIFFERS FROM KAGGLE'S PYTHON\n",
        "# ENVIRONMENT SO THERE MAY BE MISSING LIBRARIES USED BY YOUR\n",
        "# NOTEBOOK.\n",
        "\n",
        "import os\n",
        "import sys\n",
        "from tempfile import NamedTemporaryFile\n",
        "from urllib.request import urlopen\n",
        "from urllib.parse import unquote, urlparse\n",
        "from urllib.error import HTTPError\n",
        "from zipfile import ZipFile\n",
        "import tarfile\n",
        "import shutil\n",
        "\n",
        "CHUNK_SIZE = 40960\n",
        "DATA_SOURCE_MAPPING = 'stars-and-galaxies:https%3A%2F%2Fstorage.googleapis.com%2Fkaggle-data-sets%2F865179%2F1479286%2Fbundle%2Farchive.zip%3FX-Goog-Algorithm%3DGOOG4-RSA-SHA256%26X-Goog-Credential%3Dgcp-kaggle-com%2540kaggle-161607.iam.gserviceaccount.com%252F20240703%252Fauto%252Fstorage%252Fgoog4_request%26X-Goog-Date%3D20240703T172917Z%26X-Goog-Expires%3D259200%26X-Goog-SignedHeaders%3Dhost%26X-Goog-Signature%3D00c2f7f4371331943f89aa280561d655caca076cc8dae98524d493e7c2ff584bec331885286bf1c2c327d696748d44670cdd7bcd7bc75e294bc26e7255b81e1216e8e0de4c6f199691b11b2e20e176d04ce159fbff92930e983d65bc61c44f63057be06fe072fee9dc66dd3d7894b2f19180a5c1e586ee07b2ee4048d0e4d11d31559a06d14a99de29c2456351872b6563a2bff9aa74663f60f4c6d1a33d1e5ac9c7034c9d9cae5687ed6656161d30f74097eb8d1e81edee2fbfe0276fb20613ee7488445dfceab6b099d6e444f7ba831fde033dc5abfe57df79b6a6bc15797d3f3ffb4ac1398879751139867fd557519c8149c7f116d794d19a45ec41f6065a'\n",
        "\n",
        "KAGGLE_INPUT_PATH='/kaggle/input'\n",
        "KAGGLE_WORKING_PATH='/kaggle/working'\n",
        "KAGGLE_SYMLINK='kaggle'\n",
        "\n",
        "!umount /kaggle/input/ 2> /dev/null\n",
        "shutil.rmtree('/kaggle/input', ignore_errors=True)\n",
        "os.makedirs(KAGGLE_INPUT_PATH, 0o777, exist_ok=True)\n",
        "os.makedirs(KAGGLE_WORKING_PATH, 0o777, exist_ok=True)\n",
        "\n",
        "try:\n",
        "  os.symlink(KAGGLE_INPUT_PATH, os.path.join(\"..\", 'input'), target_is_directory=True)\n",
        "except FileExistsError:\n",
        "  pass\n",
        "try:\n",
        "  os.symlink(KAGGLE_WORKING_PATH, os.path.join(\"..\", 'working'), target_is_directory=True)\n",
        "except FileExistsError:\n",
        "  pass\n",
        "\n",
        "for data_source_mapping in DATA_SOURCE_MAPPING.split(','):\n",
        "    directory, download_url_encoded = data_source_mapping.split(':')\n",
        "    download_url = unquote(download_url_encoded)\n",
        "    filename = urlparse(download_url).path\n",
        "    destination_path = os.path.join(KAGGLE_INPUT_PATH, directory)\n",
        "    try:\n",
        "        with urlopen(download_url) as fileres, NamedTemporaryFile() as tfile:\n",
        "            total_length = fileres.headers['content-length']\n",
        "            print(f'Downloading {directory}, {total_length} bytes compressed')\n",
        "            dl = 0\n",
        "            data = fileres.read(CHUNK_SIZE)\n",
        "            while len(data) > 0:\n",
        "                dl += len(data)\n",
        "                tfile.write(data)\n",
        "                done = int(50 * dl / int(total_length))\n",
        "                sys.stdout.write(f\"\\r[{'=' * done}{' ' * (50-done)}] {dl} bytes downloaded\")\n",
        "                sys.stdout.flush()\n",
        "                data = fileres.read(CHUNK_SIZE)\n",
        "            if filename.endswith('.zip'):\n",
        "              with ZipFile(tfile) as zfile:\n",
        "                zfile.extractall(destination_path)\n",
        "            else:\n",
        "              with tarfile.open(tfile.name) as tarfile:\n",
        "                tarfile.extractall(destination_path)\n",
        "            print(f'\\nDownloaded and uncompressed: {directory}')\n",
        "    except HTTPError as e:\n",
        "        print(f'Failed to load (likely expired) {download_url} to path {destination_path}')\n",
        "        continue\n",
        "    except OSError as e:\n",
        "        print(f'Failed to load {download_url} to path {destination_path}')\n",
        "        continue\n",
        "\n",
        "print('Data source import complete.')\n"
      ],
      "metadata": {
        "id": "SHKm-B750rPQ"
      },
      "cell_type": "code",
      "outputs": [],
      "execution_count": null
    },
    {
      "cell_type": "code",
      "source": [
        "direct = \"../input/stars-and-galaxies/data\""
      ],
      "metadata": {
        "_uuid": "d629ff2d2480ee46fbb7e2d37f6b5fab8052498a",
        "_cell_guid": "79c7e3d0-c299-4dcb-8224-4455121ee9b0",
        "execution": {
          "iopub.status.busy": "2024-07-03T14:41:57.298407Z",
          "iopub.execute_input": "2024-07-03T14:41:57.298694Z",
          "iopub.status.idle": "2024-07-03T14:41:57.302965Z",
          "shell.execute_reply.started": "2024-07-03T14:41:57.298667Z",
          "shell.execute_reply": "2024-07-03T14:41:57.301955Z"
        },
        "trusted": true,
        "id": "GnAaLgEP0rPS"
      },
      "execution_count": null,
      "outputs": []
    },
    {
      "cell_type": "code",
      "source": [
        "import numpy as np\n",
        "import pandas as pd\n",
        "import matplotlib.pyplot as plt\n",
        "from tqdm import tqdm\n",
        "import cv2\n",
        "import os\n",
        "from tensorflow.keras.preprocessing.image import ImageDataGenerator\n",
        "from tensorflow.keras.layers import Dense, GlobalAveragePooling2D,Flatten\n",
        "from tensorflow.keras.models import Model\n",
        "from tensorflow.keras.optimizers import Adam\n",
        "from tensorflow.keras.applications import MobileNetV2\n",
        "from tensorflow.keras.models import Sequential\n"
      ],
      "metadata": {
        "execution": {
          "iopub.status.busy": "2024-07-03T14:41:57.322416Z",
          "iopub.execute_input": "2024-07-03T14:41:57.322701Z",
          "iopub.status.idle": "2024-07-03T14:42:02.290335Z",
          "shell.execute_reply.started": "2024-07-03T14:41:57.322672Z",
          "shell.execute_reply": "2024-07-03T14:42:02.289646Z"
        },
        "trusted": true,
        "id": "m64LNB180rPT"
      },
      "execution_count": null,
      "outputs": []
    },
    {
      "cell_type": "code",
      "source": [
        "# Path to dataset\n",
        "train_dir = f'{direct}/train'\n",
        "val_dir =  f'{direct}/validation'"
      ],
      "metadata": {
        "execution": {
          "iopub.status.busy": "2024-07-03T14:42:02.292356Z",
          "iopub.execute_input": "2024-07-03T14:42:02.292629Z",
          "iopub.status.idle": "2024-07-03T14:42:02.296285Z",
          "shell.execute_reply.started": "2024-07-03T14:42:02.2926Z",
          "shell.execute_reply": "2024-07-03T14:42:02.295404Z"
        },
        "trusted": true,
        "id": "4enornQg0rPT"
      },
      "execution_count": null,
      "outputs": []
    },
    {
      "cell_type": "code",
      "source": [
        "# Image data generator\n",
        "train_datagen = ImageDataGenerator(\n",
        "    rescale=1./255,\n",
        "#         featurewise_center=False,  # set input mean to 0 over the dataset\n",
        "#         samplewise_center=False,  # set each sample mean to 0\n",
        "#         featurewise_std_normalization=False,  # divide inputs by std of the dataset\n",
        "#         samplewise_std_normalization=False,  # divide each input by its std\n",
        "#         zca_whitening=False,  # apply ZCA whitening\n",
        "#         rotation_range=180,  # randomly rotate images in the range (degrees, 0 to 180)\n",
        "#         zoom_range = 0.1, # Randomly zoom image\n",
        "#         width_shift_range=0.1,  # randomly shift images horizontally (fraction of total width)\n",
        "#         height_shift_range=0.1,  # randomly shift images vertically (fraction of total height)\n",
        "#         horizontal_flip=True,  # randomly flip images\n",
        "#         vertical_flip=True\n",
        ")\n",
        "\n",
        "val_datagen = ImageDataGenerator(rescale=1./255)\n"
      ],
      "metadata": {
        "execution": {
          "iopub.status.busy": "2024-07-03T14:42:02.297607Z",
          "iopub.execute_input": "2024-07-03T14:42:02.297892Z",
          "iopub.status.idle": "2024-07-03T14:42:02.310264Z",
          "shell.execute_reply.started": "2024-07-03T14:42:02.29785Z",
          "shell.execute_reply": "2024-07-03T14:42:02.309487Z"
        },
        "trusted": true,
        "id": "HhDsXBhG0rPT"
      },
      "execution_count": null,
      "outputs": []
    },
    {
      "cell_type": "code",
      "source": [
        "bs = 32\n",
        "lr = 0.0001\n",
        "size = (224, 224)\n",
        "shape = (224,224, 3)\n",
        "epochs = 30\n",
        "batch_size = 32"
      ],
      "metadata": {
        "execution": {
          "iopub.status.busy": "2024-07-03T14:42:02.311367Z",
          "iopub.execute_input": "2024-07-03T14:42:02.311648Z",
          "iopub.status.idle": "2024-07-03T14:42:02.319396Z",
          "shell.execute_reply.started": "2024-07-03T14:42:02.311619Z",
          "shell.execute_reply": "2024-07-03T14:42:02.318659Z"
        },
        "trusted": true,
        "id": "0sbcs-Tb0rPT"
      },
      "execution_count": null,
      "outputs": []
    },
    {
      "cell_type": "code",
      "source": [
        "\n",
        "train_generator = train_datagen.flow_from_directory(\n",
        "    train_dir,\n",
        "    target_size=size,\n",
        "    batch_size=batch_size,\n",
        "    class_mode='binary')\n",
        "\n",
        "validation_generator = val_datagen.flow_from_directory(\n",
        "    val_dir,\n",
        "    target_size=size,\n",
        "    batch_size=batch_size,\n",
        "    class_mode='binary')\n",
        "\n"
      ],
      "metadata": {
        "execution": {
          "iopub.status.busy": "2024-07-03T14:42:02.322742Z",
          "iopub.execute_input": "2024-07-03T14:42:02.323063Z",
          "iopub.status.idle": "2024-07-03T14:42:06.107917Z",
          "shell.execute_reply.started": "2024-07-03T14:42:02.323035Z",
          "shell.execute_reply": "2024-07-03T14:42:06.106978Z"
        },
        "trusted": true,
        "id": "YEc7TVrD0rPU",
        "outputId": "7905aea1-50d3-40d0-b04b-b15a91e5018b"
      },
      "execution_count": null,
      "outputs": [
        {
          "name": "stdout",
          "text": "Found 8000 images belonging to 2 classes.\nFound 2000 images belonging to 2 classes.\n",
          "output_type": "stream"
        }
      ]
    },
    {
      "cell_type": "code",
      "source": [
        "sample_training_images, _ = next(train_generator)"
      ],
      "metadata": {
        "execution": {
          "iopub.status.busy": "2024-07-03T14:42:06.109463Z",
          "iopub.execute_input": "2024-07-03T14:42:06.109736Z",
          "iopub.status.idle": "2024-07-03T14:42:06.434919Z",
          "shell.execute_reply.started": "2024-07-03T14:42:06.109709Z",
          "shell.execute_reply": "2024-07-03T14:42:06.433976Z"
        },
        "trusted": true,
        "id": "Bq1NB1Tq0rPV"
      },
      "execution_count": null,
      "outputs": []
    },
    {
      "cell_type": "code",
      "source": [
        "image_batch = sample_training_images[:batch_size]"
      ],
      "metadata": {
        "execution": {
          "iopub.status.busy": "2024-07-03T14:42:06.436121Z",
          "iopub.execute_input": "2024-07-03T14:42:06.436467Z",
          "iopub.status.idle": "2024-07-03T14:42:06.440858Z",
          "shell.execute_reply.started": "2024-07-03T14:42:06.436429Z",
          "shell.execute_reply": "2024-07-03T14:42:06.439965Z"
        },
        "trusted": true,
        "id": "1Rltah0H0rPV"
      },
      "execution_count": null,
      "outputs": []
    },
    {
      "cell_type": "code",
      "source": [
        "import tensorflow as tf\n",
        "base_model = tf.keras.applications.MobileNetV2(input_shape=shape,\n",
        "                                               include_top=False,\n",
        "                                               weights='imagenet')\n",
        "base_model.trainable = False\n",
        "\n",
        "\n"
      ],
      "metadata": {
        "execution": {
          "iopub.status.busy": "2024-07-03T14:42:06.442141Z",
          "iopub.execute_input": "2024-07-03T14:42:06.4425Z",
          "iopub.status.idle": "2024-07-03T14:42:10.877239Z",
          "shell.execute_reply.started": "2024-07-03T14:42:06.442469Z",
          "shell.execute_reply": "2024-07-03T14:42:10.87647Z"
        },
        "trusted": true,
        "id": "NmXG9eTj0rPV",
        "outputId": "d8b2a6d1-4edb-4457-a341-7d95236f4092"
      },
      "execution_count": null,
      "outputs": [
        {
          "name": "stdout",
          "text": "Downloading data from https://storage.googleapis.com/tensorflow/keras-applications/mobilenet_v2/mobilenet_v2_weights_tf_dim_ordering_tf_kernels_1.0_224_no_top.h5\n9412608/9406464 [==============================] - 0s 0us/step\n",
          "output_type": "stream"
        }
      ]
    },
    {
      "cell_type": "code",
      "source": [
        "feature_batch = base_model(image_batch)"
      ],
      "metadata": {
        "execution": {
          "iopub.status.busy": "2024-07-03T14:42:10.87826Z",
          "iopub.execute_input": "2024-07-03T14:42:10.878518Z",
          "iopub.status.idle": "2024-07-03T14:42:14.374338Z",
          "shell.execute_reply.started": "2024-07-03T14:42:10.878492Z",
          "shell.execute_reply": "2024-07-03T14:42:14.373291Z"
        },
        "trusted": true,
        "id": "Fj_EaWlg0rPW"
      },
      "execution_count": null,
      "outputs": []
    },
    {
      "cell_type": "code",
      "source": [
        "global_average_layer = tf.keras.layers.GlobalAveragePooling2D()\n",
        "feature_batch_average = global_average_layer(feature_batch)\n",
        "print(feature_batch_average.shape)"
      ],
      "metadata": {
        "execution": {
          "iopub.status.busy": "2024-07-03T14:42:14.375753Z",
          "iopub.execute_input": "2024-07-03T14:42:14.37607Z",
          "iopub.status.idle": "2024-07-03T14:42:14.388568Z",
          "shell.execute_reply.started": "2024-07-03T14:42:14.376039Z",
          "shell.execute_reply": "2024-07-03T14:42:14.387651Z"
        },
        "trusted": true,
        "id": "U5-SAxGn0rPW",
        "outputId": "d1948186-0cc6-47d3-cc7a-2f2b2a0b2093"
      },
      "execution_count": null,
      "outputs": [
        {
          "name": "stdout",
          "text": "(32, 1280)\n",
          "output_type": "stream"
        }
      ]
    },
    {
      "cell_type": "code",
      "source": [
        "prediction_layer = tf.keras.layers.Dense(1)\n",
        "prediction_batch = prediction_layer(feature_batch_average)\n",
        "print(prediction_batch.shape)"
      ],
      "metadata": {
        "execution": {
          "iopub.status.busy": "2024-07-03T14:42:14.38972Z",
          "iopub.execute_input": "2024-07-03T14:42:14.390037Z",
          "iopub.status.idle": "2024-07-03T14:42:14.405709Z",
          "shell.execute_reply.started": "2024-07-03T14:42:14.390007Z",
          "shell.execute_reply": "2024-07-03T14:42:14.404922Z"
        },
        "trusted": true,
        "id": "hmJv4Sz30rPW",
        "outputId": "b57a47d0-a39c-4217-b4e7-87789c4259a4"
      },
      "execution_count": null,
      "outputs": [
        {
          "name": "stdout",
          "text": "(32, 1)\n",
          "output_type": "stream"
        }
      ]
    },
    {
      "cell_type": "code",
      "source": [
        "model = tf.keras.Sequential([\n",
        "  base_model,\n",
        "  global_average_layer,\n",
        "  prediction_layer\n",
        "])\n",
        "\n",
        "base_learning_rate = 0.0001\n",
        "model.compile(optimizer=tf.keras.optimizers.RMSprop(lr=base_learning_rate),\n",
        "              loss=tf.keras.losses.BinaryCrossentropy(from_logits=True),\n",
        "              metrics=['accuracy'])\n",
        "\n",
        "model.summary()"
      ],
      "metadata": {
        "execution": {
          "iopub.status.busy": "2024-07-03T14:42:14.406778Z",
          "iopub.execute_input": "2024-07-03T14:42:14.40708Z",
          "iopub.status.idle": "2024-07-03T14:42:14.74297Z",
          "shell.execute_reply.started": "2024-07-03T14:42:14.407053Z",
          "shell.execute_reply": "2024-07-03T14:42:14.742128Z"
        },
        "trusted": true,
        "id": "V1EPVsPS0rPW",
        "outputId": "e6f2ff1a-46c8-447a-9730-c5565778851e"
      },
      "execution_count": null,
      "outputs": [
        {
          "name": "stdout",
          "text": "Model: \"sequential\"\n_________________________________________________________________\nLayer (type)                 Output Shape              Param #   \n=================================================================\nmobilenetv2_1.00_224 (Functi (None, 7, 7, 1280)        2257984   \n_________________________________________________________________\nglobal_average_pooling2d (Gl (None, 1280)              0         \n_________________________________________________________________\ndense (Dense)                (None, 1)                 1281      \n=================================================================\nTotal params: 2,259,265\nTrainable params: 1,281\nNon-trainable params: 2,257,984\n_________________________________________________________________\n",
          "output_type": "stream"
        }
      ]
    },
    {
      "cell_type": "code",
      "source": [
        "# es = EarlyStopping(monitor='val_loss', mode='min', verbose=1, patience=10)\n",
        "es = tf.keras.callbacks.EarlyStopping(monitor='loss', mode='min', verbose=1, patience=10)\n",
        "# mc = ModelCheckpoint('best_model.h5', monitor='val_accuracy', mode='max', verbose=1, save_best_only=True)\n",
        "mc = tf.keras.callbacks.ModelCheckpoint('best_model.h5', monitor='accuracy', mode='max', verbose=1, save_best_only=True)\n",
        "\n",
        "# fit model\n",
        "history = model.fit(train_generator,\n",
        "                    epochs=30,\n",
        "                    callbacks=[es, mc],\n",
        "                    validation_data=validation_generator,\n",
        "                    validation_steps=validation_generator.samples // validation_generator.batch_size,\n",
        "                    )"
      ],
      "metadata": {
        "execution": {
          "iopub.status.busy": "2024-07-03T14:42:14.744686Z",
          "iopub.execute_input": "2024-07-03T14:42:14.745071Z",
          "iopub.status.idle": "2024-07-03T15:16:16.685938Z",
          "shell.execute_reply.started": "2024-07-03T14:42:14.745029Z",
          "shell.execute_reply": "2024-07-03T15:16:16.685106Z"
        },
        "trusted": true,
        "id": "MV2GT0em0rPW",
        "outputId": "be7fd42c-b7c2-4425-8126-0dcbde521a3b"
      },
      "execution_count": null,
      "outputs": [
        {
          "name": "stdout",
          "text": "Epoch 1/30\n250/250 [==============================] - ETA: 0s - loss: 0.4546 - accuracy: 0.7900\nEpoch 00001: accuracy improved from -inf to 0.79000, saving model to best_model.h5\n250/250 [==============================] - 91s 364ms/step - loss: 0.4546 - accuracy: 0.7900 - val_loss: 0.3168 - val_accuracy: 0.9234\nEpoch 2/30\n250/250 [==============================] - ETA: 0s - loss: 0.2701 - accuracy: 0.9150\nEpoch 00002: accuracy improved from 0.79000 to 0.91500, saving model to best_model.h5\n250/250 [==============================] - 68s 271ms/step - loss: 0.2701 - accuracy: 0.9150 - val_loss: 0.2312 - val_accuracy: 0.9294\nEpoch 3/30\n250/250 [==============================] - ETA: 0s - loss: 0.2260 - accuracy: 0.9222\nEpoch 00003: accuracy improved from 0.91500 to 0.92225, saving model to best_model.h5\n250/250 [==============================] - 67s 267ms/step - loss: 0.2260 - accuracy: 0.9222 - val_loss: 0.2052 - val_accuracy: 0.9325\nEpoch 4/30\n250/250 [==============================] - ETA: 0s - loss: 0.2111 - accuracy: 0.9251\nEpoch 00004: accuracy improved from 0.92225 to 0.92513, saving model to best_model.h5\n250/250 [==============================] - 66s 265ms/step - loss: 0.2111 - accuracy: 0.9251 - val_loss: 0.1943 - val_accuracy: 0.9355\nEpoch 5/30\n250/250 [==============================] - ETA: 0s - loss: 0.2038 - accuracy: 0.9268\nEpoch 00005: accuracy improved from 0.92513 to 0.92675, saving model to best_model.h5\n250/250 [==============================] - 66s 266ms/step - loss: 0.2038 - accuracy: 0.9268 - val_loss: 0.1882 - val_accuracy: 0.9345\nEpoch 6/30\n250/250 [==============================] - ETA: 0s - loss: 0.1996 - accuracy: 0.9276\nEpoch 00006: accuracy improved from 0.92675 to 0.92763, saving model to best_model.h5\n250/250 [==============================] - 66s 266ms/step - loss: 0.1996 - accuracy: 0.9276 - val_loss: 0.1816 - val_accuracy: 0.9365\nEpoch 7/30\n250/250 [==============================] - ETA: 0s - loss: 0.1969 - accuracy: 0.9283\nEpoch 00007: accuracy improved from 0.92763 to 0.92825, saving model to best_model.h5\n250/250 [==============================] - 66s 266ms/step - loss: 0.1969 - accuracy: 0.9283 - val_loss: 0.1809 - val_accuracy: 0.9350\nEpoch 8/30\n250/250 [==============================] - ETA: 0s - loss: 0.1948 - accuracy: 0.9287\nEpoch 00008: accuracy improved from 0.92825 to 0.92875, saving model to best_model.h5\n250/250 [==============================] - 68s 273ms/step - loss: 0.1948 - accuracy: 0.9287 - val_loss: 0.1789 - val_accuracy: 0.9380\nEpoch 9/30\n250/250 [==============================] - ETA: 0s - loss: 0.1930 - accuracy: 0.9290\nEpoch 00009: accuracy improved from 0.92875 to 0.92900, saving model to best_model.h5\n250/250 [==============================] - 67s 270ms/step - loss: 0.1930 - accuracy: 0.9290 - val_loss: 0.1780 - val_accuracy: 0.9380\nEpoch 10/30\n250/250 [==============================] - ETA: 0s - loss: 0.1919 - accuracy: 0.9294\nEpoch 00010: accuracy improved from 0.92900 to 0.92937, saving model to best_model.h5\n250/250 [==============================] - 67s 269ms/step - loss: 0.1919 - accuracy: 0.9294 - val_loss: 0.1747 - val_accuracy: 0.9370\nEpoch 11/30\n250/250 [==============================] - ETA: 0s - loss: 0.1907 - accuracy: 0.9300\nEpoch 00011: accuracy improved from 0.92937 to 0.93000, saving model to best_model.h5\n250/250 [==============================] - 67s 268ms/step - loss: 0.1907 - accuracy: 0.9300 - val_loss: 0.1738 - val_accuracy: 0.9370\nEpoch 12/30\n250/250 [==============================] - ETA: 0s - loss: 0.1898 - accuracy: 0.9287\nEpoch 00012: accuracy did not improve from 0.93000\n250/250 [==============================] - 67s 268ms/step - loss: 0.1898 - accuracy: 0.9287 - val_loss: 0.1725 - val_accuracy: 0.9380\nEpoch 13/30\n250/250 [==============================] - ETA: 0s - loss: 0.1887 - accuracy: 0.9296\nEpoch 00013: accuracy did not improve from 0.93000\n250/250 [==============================] - 67s 267ms/step - loss: 0.1887 - accuracy: 0.9296 - val_loss: 0.1715 - val_accuracy: 0.9370\nEpoch 14/30\n250/250 [==============================] - ETA: 0s - loss: 0.1878 - accuracy: 0.9296\nEpoch 00014: accuracy did not improve from 0.93000\n250/250 [==============================] - 66s 265ms/step - loss: 0.1878 - accuracy: 0.9296 - val_loss: 0.1720 - val_accuracy: 0.9405\nEpoch 15/30\n250/250 [==============================] - ETA: 0s - loss: 0.1873 - accuracy: 0.9305\nEpoch 00015: accuracy improved from 0.93000 to 0.93050, saving model to best_model.h5\n250/250 [==============================] - 66s 264ms/step - loss: 0.1873 - accuracy: 0.9305 - val_loss: 0.1699 - val_accuracy: 0.9375\nEpoch 16/30\n250/250 [==============================] - ETA: 0s - loss: 0.1864 - accuracy: 0.9296\nEpoch 00016: accuracy did not improve from 0.93050\n250/250 [==============================] - 66s 263ms/step - loss: 0.1864 - accuracy: 0.9296 - val_loss: 0.1692 - val_accuracy: 0.9385\nEpoch 17/30\n250/250 [==============================] - ETA: 0s - loss: 0.1852 - accuracy: 0.9300\nEpoch 00017: accuracy did not improve from 0.93050\n250/250 [==============================] - 66s 263ms/step - loss: 0.1852 - accuracy: 0.9300 - val_loss: 0.1704 - val_accuracy: 0.9420\nEpoch 18/30\n250/250 [==============================] - ETA: 0s - loss: 0.1849 - accuracy: 0.9316\nEpoch 00018: accuracy improved from 0.93050 to 0.93163, saving model to best_model.h5\n250/250 [==============================] - 66s 265ms/step - loss: 0.1849 - accuracy: 0.9316 - val_loss: 0.1682 - val_accuracy: 0.9385\nEpoch 19/30\n250/250 [==============================] - ETA: 0s - loss: 0.1843 - accuracy: 0.9314\nEpoch 00019: accuracy did not improve from 0.93163\n250/250 [==============================] - 67s 266ms/step - loss: 0.1843 - accuracy: 0.9314 - val_loss: 0.1668 - val_accuracy: 0.9395\nEpoch 20/30\n250/250 [==============================] - ETA: 0s - loss: 0.1835 - accuracy: 0.9316\nEpoch 00020: accuracy did not improve from 0.93163\n250/250 [==============================] - 67s 267ms/step - loss: 0.1835 - accuracy: 0.9316 - val_loss: 0.1664 - val_accuracy: 0.9400\nEpoch 21/30\n250/250 [==============================] - ETA: 0s - loss: 0.1829 - accuracy: 0.9315\nEpoch 00021: accuracy did not improve from 0.93163\n250/250 [==============================] - 67s 266ms/step - loss: 0.1829 - accuracy: 0.9315 - val_loss: 0.1663 - val_accuracy: 0.9410\nEpoch 22/30\n250/250 [==============================] - ETA: 0s - loss: 0.1821 - accuracy: 0.9324\nEpoch 00022: accuracy improved from 0.93163 to 0.93238, saving model to best_model.h5\n250/250 [==============================] - 67s 270ms/step - loss: 0.1821 - accuracy: 0.9324 - val_loss: 0.1650 - val_accuracy: 0.9390\nEpoch 23/30\n250/250 [==============================] - ETA: 0s - loss: 0.1817 - accuracy: 0.9319\nEpoch 00023: accuracy did not improve from 0.93238\n250/250 [==============================] - 67s 268ms/step - loss: 0.1817 - accuracy: 0.9319 - val_loss: 0.1647 - val_accuracy: 0.9415\nEpoch 24/30\n250/250 [==============================] - ETA: 0s - loss: 0.1810 - accuracy: 0.9327\nEpoch 00024: accuracy improved from 0.93238 to 0.93275, saving model to best_model.h5\n250/250 [==============================] - 67s 269ms/step - loss: 0.1810 - accuracy: 0.9327 - val_loss: 0.1661 - val_accuracy: 0.9405\nEpoch 25/30\n250/250 [==============================] - ETA: 0s - loss: 0.1808 - accuracy: 0.9330\nEpoch 00025: accuracy improved from 0.93275 to 0.93300, saving model to best_model.h5\n250/250 [==============================] - 66s 266ms/step - loss: 0.1808 - accuracy: 0.9330 - val_loss: 0.1632 - val_accuracy: 0.9415\nEpoch 26/30\n250/250 [==============================] - ETA: 0s - loss: 0.1800 - accuracy: 0.9333\nEpoch 00026: accuracy improved from 0.93300 to 0.93325, saving model to best_model.h5\n250/250 [==============================] - 67s 269ms/step - loss: 0.1800 - accuracy: 0.9333 - val_loss: 0.1640 - val_accuracy: 0.9410\nEpoch 27/30\n250/250 [==============================] - ETA: 0s - loss: 0.1794 - accuracy: 0.9348\nEpoch 00027: accuracy improved from 0.93325 to 0.93475, saving model to best_model.h5\n250/250 [==============================] - 67s 269ms/step - loss: 0.1794 - accuracy: 0.9348 - val_loss: 0.1640 - val_accuracy: 0.9400\nEpoch 28/30\n250/250 [==============================] - ETA: 0s - loss: 0.1792 - accuracy: 0.9330\nEpoch 00028: accuracy did not improve from 0.93475\n250/250 [==============================] - 67s 268ms/step - loss: 0.1792 - accuracy: 0.9330 - val_loss: 0.1638 - val_accuracy: 0.9405\nEpoch 29/30\n250/250 [==============================] - ETA: 0s - loss: 0.1784 - accuracy: 0.9345\nEpoch 00029: accuracy did not improve from 0.93475\n250/250 [==============================] - 68s 270ms/step - loss: 0.1784 - accuracy: 0.9345 - val_loss: 0.1633 - val_accuracy: 0.9420\nEpoch 30/30\n250/250 [==============================] - ETA: 0s - loss: 0.1782 - accuracy: 0.9349\nEpoch 00030: accuracy improved from 0.93475 to 0.93488, saving model to best_model.h5\n250/250 [==============================] - 69s 274ms/step - loss: 0.1782 - accuracy: 0.9349 - val_loss: 0.1607 - val_accuracy: 0.9430\n",
          "output_type": "stream"
        }
      ]
    },
    {
      "cell_type": "code",
      "source": [
        "# x = mobileNet.output\n",
        "# x = GlobalAveragePooling2D()(x)\n",
        "# x = Dense(1024, activation='relu')(x)  # Add a fully-connected layer\n",
        "# predictions = Dense(1, activation='sigmoid')(x)  # Add a logistic layer for binary classification\n",
        "\n",
        "# # Combine the base model and the custom layers into a new model\n",
        "# model = Model(inputs=mobileNet.input, outputs=predictions)\n",
        "# # Compile the model\n",
        "# model.compile(optimizer=Adam(lr=0.0001), loss='binary_crossentropy', metrics=['accuracy'])\n",
        "# # Let's take a look at the base model architecture\n"
      ],
      "metadata": {
        "execution": {
          "iopub.status.busy": "2024-07-03T15:16:16.687341Z",
          "iopub.execute_input": "2024-07-03T15:16:16.687652Z",
          "iopub.status.idle": "2024-07-03T15:16:16.691194Z",
          "shell.execute_reply.started": "2024-07-03T15:16:16.687621Z",
          "shell.execute_reply": "2024-07-03T15:16:16.69044Z"
        },
        "trusted": true,
        "id": "lU7JRNew0rPW"
      },
      "execution_count": null,
      "outputs": []
    },
    {
      "cell_type": "code",
      "source": [
        "# # Train the model\n",
        "# history = model.fit(\n",
        "#     train_generator,\n",
        "#     steps_per_epoch=train_generator.samples // train_generator.batch_size,\n",
        "#     validation_data=validation_generator,\n",
        "#     validation_steps=validation_generator.samples // validation_generator.batch_size,\n",
        "#     epochs=30\n",
        "# )"
      ],
      "metadata": {
        "execution": {
          "iopub.status.busy": "2024-07-03T15:16:16.692386Z",
          "iopub.execute_input": "2024-07-03T15:16:16.692697Z",
          "iopub.status.idle": "2024-07-03T15:16:16.706093Z",
          "shell.execute_reply.started": "2024-07-03T15:16:16.692666Z",
          "shell.execute_reply": "2024-07-03T15:16:16.705338Z"
        },
        "trusted": true,
        "id": "ki3JzJhB0rPW"
      },
      "execution_count": null,
      "outputs": []
    },
    {
      "cell_type": "code",
      "source": [
        "# Plotting the model accuracy and loss\n",
        "plt.figure(figsize=(12, 4))\n",
        "\n",
        "plt.subplot(1, 2, 1)\n",
        "plt.plot(history.history['accuracy'], label='train_accuracy')\n",
        "plt.plot(history.history['val_accuracy'], label='val_accuracy')\n",
        "plt.title('Model Accuracy')\n",
        "plt.xlabel('Epochs')\n",
        "plt.ylabel('Accuracy')\n",
        "plt.legend()\n",
        "\n",
        "plt.subplot(1, 2, 2)\n",
        "plt.plot(history.history['loss'], label='train_loss')\n",
        "plt.plot(history.history['val_loss'], label='val_loss')\n",
        "plt.title('Model Loss')\n",
        "plt.xlabel('Epochs')\n",
        "plt.ylabel('Loss')\n",
        "plt.legend()\n",
        "\n",
        "plt.show()"
      ],
      "metadata": {
        "execution": {
          "iopub.status.busy": "2024-07-03T15:16:16.707196Z",
          "iopub.execute_input": "2024-07-03T15:16:16.707544Z",
          "iopub.status.idle": "2024-07-03T15:16:17.072757Z",
          "shell.execute_reply.started": "2024-07-03T15:16:16.707502Z",
          "shell.execute_reply": "2024-07-03T15:16:17.071933Z"
        },
        "trusted": true,
        "id": "TpAL0veb0rPX",
        "outputId": "2e5eb5b9-8693-4b33-8501-76ec8d545cc3"
      },
      "execution_count": null,
      "outputs": [
        {
          "output_type": "display_data",
          "data": {
            "text/plain": "<Figure size 864x288 with 2 Axes>",
            "image/png": "[encoded data removed]"
          },
          "metadata": {
            "needs_background": "light"
          }
        }
      ]
    },
    {
      "cell_type": "code",
      "source": [
        "print(\"Class indices:\", validation_generator.class_indices)\n"
      ],
      "metadata": {
        "execution": {
          "iopub.status.busy": "2024-07-03T15:40:24.957433Z",
          "iopub.execute_input": "2024-07-03T15:40:24.957762Z",
          "iopub.status.idle": "2024-07-03T15:40:24.962682Z",
          "shell.execute_reply.started": "2024-07-03T15:40:24.957731Z",
          "shell.execute_reply": "2024-07-03T15:40:24.96164Z"
        },
        "trusted": true,
        "id": "K8F8zK5t0rPX",
        "outputId": "c12343f2-a0ce-4fa5-ebf6-93479d799a5b"
      },
      "execution_count": null,
      "outputs": [
        {
          "name": "stdout",
          "text": "Class indices: {'galaxy': 0, 'star': 1}\n",
          "output_type": "stream"
        }
      ]
    },
    {
      "cell_type": "code",
      "source": [
        "print(validation_generator.class_indices)\n"
      ],
      "metadata": {
        "execution": {
          "iopub.status.busy": "2024-07-03T15:51:47.048043Z",
          "iopub.execute_input": "2024-07-03T15:51:47.048405Z",
          "iopub.status.idle": "2024-07-03T15:51:47.053101Z",
          "shell.execute_reply.started": "2024-07-03T15:51:47.048372Z",
          "shell.execute_reply": "2024-07-03T15:51:47.052017Z"
        },
        "trusted": true,
        "id": "zf0O_S600rPX",
        "outputId": "d8a93c5a-0418-4494-c819-52aaf6f5157d"
      },
      "execution_count": null,
      "outputs": [
        {
          "name": "stdout",
          "text": "{'galaxy': 0, 'star': 1}\n",
          "output_type": "stream"
        }
      ]
    }
  ]
}